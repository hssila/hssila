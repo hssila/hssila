{
  "nbformat": 4,
  "nbformat_minor": 0,
  "metadata": {
    "colab": {
      "provenance": [],
      "authorship_tag": "ABX9TyPT6se3q3mbydrI3yWXjPN0",
      "include_colab_link": true
    },
    "kernelspec": {
      "name": "python3",
      "display_name": "Python 3"
    },
    "language_info": {
      "name": "python"
    }
  },
  "cells": [
    {
      "cell_type": "markdown",
      "metadata": {
        "id": "view-in-github",
        "colab_type": "text"
      },
      "source": [
        "<a href=\"https://colab.research.google.com/github/hssila/hssila/blob/main/redditproject1.ipynb\" target=\"_parent\"><img src=\"https://colab.research.google.com/assets/colab-badge.svg\" alt=\"Open In Colab\"/></a>"
      ]
    },
    {
      "cell_type": "code",
      "execution_count": null,
      "metadata": {
        "id": "VpgHy-RTYYp-"
      },
      "outputs": [],
      "source": [
        "pip install praw"
      ]
    },
    {
      "cell_type": "code",
      "source": [
        "import praw\n",
        "import pandas as pd"
      ],
      "metadata": {
        "id": "GaUVJLrTYnZ9"
      },
      "execution_count": null,
      "outputs": []
    },
    {
      "cell_type": "code",
      "source": [
        "reddit = praw.Reddit(client_id=\"\",\n",
        "                     client_secret=\"\",\n",
        "                     user_agent=\"my user agent\",\n",
        "                     username = \"\",\n",
        "                     password = \"\")"
      ],
      "metadata": {
        "id": "IVVhutGyYt89"
      },
      "execution_count": null,
      "outputs": []
    },
    {
      "cell_type": "code",
      "source": [
        "sub = ['Askreddit']"
      ],
      "metadata": {
        "id": "BVlJ8vg9YxiK"
      },
      "execution_count": null,
      "outputs": []
    },
    {
      "cell_type": "code",
      "source": [
        "for s in sub:\n",
        "    subreddit = reddit.subreddit(s)"
      ],
      "metadata": {
        "id": "trDXjvj-YzDj"
      },
      "execution_count": null,
      "outputs": []
    },
    {
      "cell_type": "code",
      "source": [
        "    query = ['Gaming']"
      ],
      "metadata": {
        "id": "W9jmJxo3Y2W-"
      },
      "execution_count": null,
      "outputs": []
    },
    {
      "cell_type": "code",
      "source": [
        "    for item in query:\n",
        "        post_dict = {\n",
        "            \"title\" : [],   #title of the post\n",
        "            \"score\" : [],   # score of the post\n",
        "            \"id\" : [],      # unique id of the post\n",
        "            \"url\" : [],     #url of the post\n",
        "            \"comms_num\": [],   #the number of comments on the post\n",
        "            \"created\" : [],  #timestamp of the post\n",
        "            \"body\" : []         # the descriptionof post\n",
        "        }\n",
        "        comments_dict = {\n",
        "            \"comment_id\" : [],      #unique comm id\n",
        "            \"comment_parent_id\" : [],   # comment parent id\n",
        "            \"comment_body\" : [],   # text in comment\n",
        "            \"comment_link_id\" : []  #link to the comment\n",
        "        }\n",
        "        for submission in subreddit.search(query,sort = \"top\",limit = None):\n",
        "            post_dict[\"title\"].append(submission.title)\n",
        "            post_dict[\"score\"].append(submission.score)\n",
        "            post_dict[\"id\"].append(submission.id)\n",
        "            post_dict[\"url\"].append(submission.url)\n",
        "            post_dict[\"comms_num\"].append(submission.num_comments)\n",
        "            post_dict[\"created\"].append(submission.created)\n",
        "            post_dict[\"body\"].append(submission.selftext)\n",
        "            submission.comments.replace_more(limit = None)\n",
        "            for comment in submission.comments.list():\n",
        "                comments_dict[\"comment_id\"].append(comment.id)\n",
        "                comments_dict[\"comment_parent_id\"].append(comment.parent_id)\n",
        "                comments_dict[\"comment_body\"].append(comment.body)\n",
        "                comments_dict[\"comment_link_id\"].append(comment.link_id)\n",
        "\n",
        "        post_comments = pd.DataFrame(comments_dict)\n",
        "\n",
        "        post_comments.to_csv(s+\"_comments_\"+ item +\"subreddit.csv\")\n",
        "        post_data = pd.DataFrame(post_dict)\n",
        "        post_data.to_csv(s+\"_\"+ item +\"subreddit.csv\")"
      ],
      "metadata": {
        "id": "ZHFlN6KPY4__"
      },
      "execution_count": null,
      "outputs": []
    }
  ]
}